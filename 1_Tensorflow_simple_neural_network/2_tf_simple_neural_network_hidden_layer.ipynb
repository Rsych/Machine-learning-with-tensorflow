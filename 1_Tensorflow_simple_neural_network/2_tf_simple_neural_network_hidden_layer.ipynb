{
  "nbformat": 4,
  "nbformat_minor": 0,
  "metadata": {
    "colab": {
      "name": "2_tf_simple_neural_network_hidden_layer.ipynb",
      "provenance": [],
      "authorship_tag": "ABX9TyNBRdcZGEuVsN1RyEU49lZa",
      "include_colab_link": true
    },
    "kernelspec": {
      "name": "python3",
      "display_name": "Python 3"
    }
  },
  "cells": [
    {
      "cell_type": "markdown",
      "metadata": {
        "id": "view-in-github",
        "colab_type": "text"
      },
      "source": [
        "<a href=\"https://colab.research.google.com/github/Rsych/tensorflow_simple_neural_network/blob/main/1_Tensorflow_simple_neural_network/2_tf_simple_neural_network_hidden_layer.ipynb\" target=\"_parent\"><img src=\"https://colab.research.google.com/assets/colab-badge.svg\" alt=\"Open In Colab\"/></a>"
      ]
    },
    {
      "cell_type": "markdown",
      "metadata": {
        "id": "8h2nzGynJXFq"
      },
      "source": [
        "Previous post showed our simple neural network showed 92.38% of train accuracy, 92.37% of validation accuracy and 92.24% test accuracy. \n",
        "\n",
        "There are few ways to improve it. This time we'll see if adding hidden layer to the model would increase accuracy."
      ]
    },
    {
      "cell_type": "code",
      "metadata": {
        "id": "Uk86SCqjMmWI"
      },
      "source": [
        "import tensorflow as tf\n",
        "from tensorflow import keras\n",
        "import os"
      ],
      "execution_count": 2,
      "outputs": []
    },
    {
      "cell_type": "code",
      "metadata": {
        "id": "QSN5EUd7M5jz"
      },
      "source": [
        ""
      ],
      "execution_count": null,
      "outputs": []
    }
  ]
}