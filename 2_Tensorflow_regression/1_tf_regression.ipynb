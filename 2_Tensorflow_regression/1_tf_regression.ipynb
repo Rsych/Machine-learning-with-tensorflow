{
  "nbformat": 4,
  "nbformat_minor": 0,
  "metadata": {
    "colab": {
      "name": "1_tf_regression.ipynb",
      "provenance": [],
      "mount_file_id": "1SYngwWsZNv6sj4z-wgYnla1Vo77SZxW5",
      "authorship_tag": "ABX9TyNByh7ftncmBV26fb5hZUXX",
      "include_colab_link": true
    },
    "kernelspec": {
      "name": "python3",
      "display_name": "Python 3"
    }
  },
  "cells": [
    {
      "cell_type": "markdown",
      "metadata": {
        "id": "view-in-github",
        "colab_type": "text"
      },
      "source": [
        "<a href=\"https://colab.research.google.com/github/Rsych/Machine-learning-with-tensorflow/blob/main/2_Tensorflow_regression/1_tf_regression.ipynb\" target=\"_parent\"><img src=\"https://colab.research.google.com/assets/colab-badge.svg\" alt=\"Open In Colab\"/></a>"
      ]
    },
    {
      "cell_type": "markdown",
      "metadata": {
        "id": "tORFr-kPoK8K"
      },
      "source": [
        "# Regression analysis\n",
        "\n",
        "Regression is the one of oldest tool for mathematical modelling and estimating the relationships between a dependent variable and one or more independent variables.\n",
        "\n",
        "Regression has been used in many fields such as engineering, physics, biology and financial market to social sciense. We'll be looking into different ways of using regression analysis:\n",
        "* Linear regression\n",
        "* Linear regression application\n",
        "* Logistic regression\n",
        "* Logistic regresion application"
      ]
    },
    {
      "cell_type": "markdown",
      "metadata": {
        "id": "oy-wrVroqsg0"
      },
      "source": [
        "## Linear regression\n",
        "We'll try it by estimating very simple house price linear regression model."
      ]
    },
    {
      "cell_type": "code",
      "metadata": {
        "id": "1LJtd_5TE40F"
      },
      "source": [
        "import tensorflow as tf\n",
        "import numpy as np\n",
        "import matplotlib.pyplot as plt\n",
        "import pandas as pd"
      ],
      "execution_count": 1,
      "outputs": []
    },
    {
      "cell_type": "code",
      "metadata": {
        "colab": {
          "base_uri": "https://localhost:8080/",
          "height": 265
        },
        "id": "aH5oeoxdFBnE",
        "outputId": "3e79eebd-4c7d-47b0-8d0b-2d7889057e18"
      },
      "source": [
        "# Generate random data\n",
        "np.random.seed(90)\n",
        "area = 5 * np.random.randn(100) + 25\n",
        "price = 25 * area + 5 + np.random.randint(25,50, size = len(area))\n",
        "\n",
        "data = np.array([area, price])\n",
        "data = pd.DataFrame(data = data.T, columns=['area', 'price'])\n",
        "plt.scatter(data['area'], data['price'])\n",
        "plt.show()"
      ],
      "execution_count": 2,
      "outputs": [
        {
          "output_type": "display_data",
          "data": {
            "image/png": "[encoded data removed]",
            "text/plain": [
              "<Figure size 432x288 with 1 Axes>"
            ]
          },
          "metadata": {
            "tags": [],
            "needs_background": "light"
          }
        }
      ]
    },
    {
      "cell_type": "markdown",
      "metadata": {
        "id": "_h-T_QKbFtYP"
      },
      "source": [
        "We can see those two variables are linearly dependent. \n",
        "\n",
        "To see further, let's calculate regression coefficients:\n",
        "* w = weight\n",
        "* b = bias"
      ]
    },
    {
      "cell_type": "code",
      "metadata": {
        "colab": {
          "base_uri": "https://localhost:8080/"
        },
        "id": "02xCY2pCGpq6",
        "outputId": "9ce52248-ded8-45a5-a5a3-f4795fdf46dc"
      },
      "source": [
        "w = sum(price*(area-np.mean(area)) / sum((area-np.mean(area))**2))\n",
        "b = np.mean(price) - w*np.mean(area)\n",
        "print('The regression coefficients are', w,b)"
      ],
      "execution_count": 3,
      "outputs": [
        {
          "output_type": "stream",
          "text": [
            "The regression coefficients are 25.158666081368587 38.407429707575716\n"
          ],
          "name": "stdout"
        }
      ]
    },
    {
      "cell_type": "markdown",
      "metadata": {
        "id": "w4lJksOkG6Q5"
      },
      "source": [
        "With calculated weight and bias, we can predict pricing."
      ]
    },
    {
      "cell_type": "code",
      "metadata": {
        "id": "bRBgc9ZMHLoo"
      },
      "source": [
        "y_pred = w * area + b"
      ],
      "execution_count": 4,
      "outputs": []
    },
    {
      "cell_type": "markdown",
      "metadata": {
        "id": "zsA_yMpkHPwA"
      },
      "source": [
        "Let's plot all values we have now and see if predicted price is linearly dependent to area."
      ]
    },
    {
      "cell_type": "code",
      "metadata": {
        "colab": {
          "base_uri": "https://localhost:8080/",
          "height": 279
        },
        "id": "4tZ0C_QcHjq9",
        "outputId": "5763e75d-f5be-433d-d157-9d95b259a730"
      },
      "source": [
        "plt.plot(area, y_pred, color='r', label='Predicted Price')\n",
        "plt.scatter(data['area'], data['price'], label='Training Data')\n",
        "plt.xlabel('Area')\n",
        "plt.ylabel('Price')\n",
        "plt.legend()\n",
        "plt.show()"
      ],
      "execution_count": 5,
      "outputs": [
        {
          "output_type": "display_data",
          "data": {
            "image/png": "[encoded data removed]",
            "text/plain": [
              "<Figure size 432x288 with 1 Axes>"
            ]
          },
          "metadata": {
            "tags": [],
            "needs_background": "light"
          }
        }
      ]
    },
    {
      "cell_type": "markdown",
      "metadata": {
        "id": "DjtXIvScH5tZ"
      },
      "source": [
        "It was very simple, however it's not that simple in the real life problems.\n",
        "Most problems, dependent variable is dependent on multiple independent variables. \n",
        "In the next chapter we'll try how to do multiple regression analysis."
      ]
    },
    {
      "cell_type": "code",
      "metadata": {
        "id": "zEkVmnQOJJNZ"
      },
      "source": [
        ""
      ],
      "execution_count": null,
      "outputs": []
    }
  ]
}